{
 "cells": [
  {
   "cell_type": "markdown",
   "metadata": {},
   "source": [
    "## Import Models"
   ]
  },
  {
   "cell_type": "code",
   "execution_count": 12,
   "metadata": {},
   "outputs": [],
   "source": [
    "import torch\n",
    "import time\n",
    "from transformers import AutoModelForCausalLM, AutoTokenizer, QuantoConfig\n",
    "from sampling.base_decoding import autoregressive_generate\n",
    "from sampling.speculative_decoding import speculative_generate\n",
    "from ngram_assisted.ngram_assisted import ngram_assisted_speculative_generate\n",
    "from ngram_assisted.ngram_storage import NGramStorage\n",
    "from utils.logits_processor import (\n",
    "    GreedyProcessor,\n",
    "    MultinomialProcessor,\n",
    "    NucleusProcessor,\n",
    "    TopKNucleusProcessor,\n",
    "    TopKProcessor,\n",
    "    MCMCProcessor\n",
    ")"
   ]
  },
  {
   "cell_type": "code",
   "execution_count": 2,
   "metadata": {},
   "outputs": [
    {
     "name": "stdout",
     "output_type": "stream",
     "text": [
      "cpu\n"
     ]
    },
    {
     "data": {
      "text/plain": [
       "LlamaForCausalLM(\n",
       "  (model): LlamaModel(\n",
       "    (embed_tokens): Embedding(32000, 2048)\n",
       "    (layers): ModuleList(\n",
       "      (0-21): 22 x LlamaDecoderLayer(\n",
       "        (self_attn): LlamaAttention(\n",
       "          (q_proj): QLinear(in_features=2048, out_features=2048, bias=False)\n",
       "          (k_proj): QLinear(in_features=2048, out_features=256, bias=False)\n",
       "          (v_proj): QLinear(in_features=2048, out_features=256, bias=False)\n",
       "          (o_proj): QLinear(in_features=2048, out_features=2048, bias=False)\n",
       "        )\n",
       "        (mlp): LlamaMLP(\n",
       "          (gate_proj): QLinear(in_features=2048, out_features=5632, bias=False)\n",
       "          (up_proj): QLinear(in_features=2048, out_features=5632, bias=False)\n",
       "          (down_proj): QLinear(in_features=5632, out_features=2048, bias=False)\n",
       "          (act_fn): SiLU()\n",
       "        )\n",
       "        (input_layernorm): LlamaRMSNorm((2048,), eps=1e-05)\n",
       "        (post_attention_layernorm): LlamaRMSNorm((2048,), eps=1e-05)\n",
       "      )\n",
       "    )\n",
       "    (norm): LlamaRMSNorm((2048,), eps=1e-05)\n",
       "    (rotary_emb): LlamaRotaryEmbedding()\n",
       "  )\n",
       "  (lm_head): Linear(in_features=2048, out_features=32000, bias=False)\n",
       ")"
      ]
     },
     "execution_count": 2,
     "metadata": {},
     "output_type": "execute_result"
    }
   ],
   "source": [
    "device = 'cuda' if torch.cuda.is_available() else 'cpu'\n",
    "print(device)\n",
    "\n",
    "drafter_model = \"TinyLlama/TinyLlama-1.1B-Chat-v1.0\"\n",
    "# drafter_model = \"gpt2\"\n",
    "drafter_quantize = QuantoConfig(\n",
    "    weights=\"int8\"\n",
    ")  # QuantoConfig(weights=\"int8\") None\n",
    "\n",
    "target_model = \"TinyLlama/TinyLlama-1.1B-Chat-v1.0\"\n",
    "# target_model = \"gpt2-medium\"\n",
    "target_quantize = QuantoConfig(\n",
    "    weights=\"int8\"\n",
    ")  # QuantoConfig(weights=\"int8\")  None\n",
    "tokenizer_name = target_model\n",
    "tokenizer = AutoTokenizer.from_pretrained(\n",
    "    tokenizer_name, trust_remote_code=True\n",
    ")\n",
    "\n",
    "drafter = AutoModelForCausalLM.from_pretrained(\n",
    "    drafter_model,\n",
    "    quantization_config=drafter_quantize,\n",
    "    device_map=device,\n",
    "    trust_remote_code=True,\n",
    ")\n",
    "drafter.eval()\n",
    "\n",
    "target = AutoModelForCausalLM.from_pretrained(\n",
    "    target_model,\n",
    "    quantization_config=target_quantize,\n",
    "    device_map=device,\n",
    "    trust_remote_code=True,\n",
    ")\n",
    "target.eval()\n"
   ]
  },
  {
   "cell_type": "code",
   "execution_count": 3,
   "metadata": {},
   "outputs": [],
   "source": [
    "\n",
    "ngram = NGramStorage(n=3, vocab_size=target.config.vocab_size)\n",
    "\n",
    "end_tokens = [\n",
    "    tokenizer.eos_token_id,\n",
    "    tokenizer.convert_tokens_to_ids(\"<|eot_id|>\"),\n",
    "]  # \"<|eot_id|>\" is the end of turn token for Llama model.\n",
    "\n",
    "\n"
   ]
  },
  {
   "cell_type": "code",
   "execution_count": 4,
   "metadata": {},
   "outputs": [
    {
     "name": "stdout",
     "output_type": "stream",
     "text": [
      "[2, 0]\n"
     ]
    }
   ],
   "source": [
    "print(end_tokens)"
   ]
  },
  {
   "cell_type": "code",
   "execution_count": 5,
   "metadata": {},
   "outputs": [],
   "source": [
    "prefix = \"what is capital of Canada?\"\n",
    "tokenized = tokenizer(prefix, return_tensors=\"pt\").input_ids[0].tolist()"
   ]
  },
  {
   "cell_type": "code",
   "execution_count": 6,
   "metadata": {},
   "outputs": [
    {
     "name": "stdout",
     "output_type": "stream",
     "text": [
      "[1, 825, 338, 7483, 310, 7400, 29973]\n"
     ]
    }
   ],
   "source": [
    "print(tokenized)"
   ]
  },
  {
   "cell_type": "markdown",
   "metadata": {},
   "source": [
    "### Autoregression Method"
   ]
  },
  {
   "cell_type": "code",
   "execution_count": 18,
   "metadata": {},
   "outputs": [
    {
     "name": "stdout",
     "output_type": "stream",
     "text": [
      "[(给给 phrase给чиsubjectiler rideywoly给给diddllhov给currencypro给 Articleរ List给 todwr给 advance给 kann给ent asse che numshe给给给判\n",
      "Throughput: 3.3 tokens/s\n"
     ]
    }
   ],
   "source": [
    "start_time = time.time()\n",
    "output_ids = autoregressive_generate(\n",
    "    tokenized,\n",
    "    target,\n",
    "    # use_cache=self.cache,\n",
    "    # max_gen_len=self.gen_len,\n",
    "    eos_tokens_id=end_tokens,\n",
    "    logits_processor=MCMCProcessor(num_steps = 10),\n",
    "    # debug=self.debug,\n",
    ")\n",
    "end_time = time.time()\n",
    "output = tokenizer.decode(output_ids, skip_special_tokens=True)\n",
    "print(output)\n",
    "base_throughput = len(output) / (end_time - start_time)\n",
    "print(f\"Throughput: {base_throughput:.1f} tokens/s\")\n"
   ]
  },
  {
   "cell_type": "markdown",
   "metadata": {},
   "source": [
    "### Speculative Method"
   ]
  },
  {
   "cell_type": "code",
   "execution_count": 16,
   "metadata": {},
   "outputs": [
    {
     "name": "stdout",
     "output_type": "stream",
     "text": [
      "Grajets educated horses professional Beat Coun da andere slsa sh· Till serves titles patron Cecfc pay DoSee Shakespeare给 census job给 gol \\enable给 cliMcBook gesch the curr doch Gastget\n",
      "Acceptance rate: 0.000\n",
      "Throughput: 0.8 tokens/s\n"
     ]
    }
   ],
   "source": [
    "spec_start_time = time.time()\n",
    "output_ids, accept_rate = speculative_generate(\n",
    "    tokenized,\n",
    "    drafter,\n",
    "    target,\n",
    "    tokenizer=tokenizer,\n",
    "    logits_processor=MCMCProcessor(num_steps=10),\n",
    "    # gamma=gamma,\n",
    "    # max_gen_len=20,\n",
    "    # eos_tokens_id=end_tokens,\n",
    "    # debug=debug,\n",
    "    # use_cache=cache,\n",
    ")\n",
    "spec_end_time = time.time()\n",
    "spec_output = tokenizer.decode(output_ids, skip_special_tokens=True)\n",
    "print( spec_output)\n",
    "print(f\"Acceptance rate: {accept_rate:.3f}\")\n",
    "spec_throughput = len(spec_output) / (spec_end_time - spec_start_time)\n",
    "print(f\"Throughput: {spec_throughput:.1f} tokens/s\")\n"
   ]
  },
  {
   "cell_type": "markdown",
   "metadata": {},
   "source": [
    "### Ngram specukative Method"
   ]
  },
  {
   "cell_type": "code",
   "execution_count": 14,
   "metadata": {},
   "outputs": [
    {
     "name": "stdout",
     "output_type": "stream",
     "text": [
      "Ma vars write detail steel ep picture Awalis budget newmarket dynamimi swift Coreə questi digits scan heuma nediß disease–without routine ni AA S do CHAR___ eliminate alternate LOUE soviapan\n",
      "Acceptance rate: 0.000\n",
      "Throughput: 3.7 tokens/s\n"
     ]
    }
   ],
   "source": [
    "\n",
    "ngram_start_time = time.time()\n",
    "output_ids, accept_rate = ngram_assisted_speculative_generate(\n",
    "    tokenized,\n",
    "    ngram,\n",
    "    target,\n",
    "    tokenizer=tokenizer,\n",
    "    # filler_top_k=self.top_k_filler,\n",
    "    logits_processor=MCMCProcessor(num_steps=10),\n",
    "    # max_gen_len=self.gen_len,\n",
    "    # eos_tokens_id=self.end_tokens,\n",
    "    # debug=self.debug,\n",
    "    # use_cache=self.cache,\n",
    "    first_target=True,\n",
    "    stop_if_unknown=True,\n",
    ")\n",
    "ngram_end_time = time.time()\n",
    "ngram_output = tokenizer.decode(output_ids, skip_special_tokens=True)\n",
    "print(ngram_output)\n",
    "print(f\"Acceptance rate: {accept_rate:.3f}\")\n",
    "ngram_throughput = len(ngram_output) / (ngram_end_time - ngram_start_time)\n",
    "print(f\"Throughput: {ngram_throughput:.1f} tokens/s\")"
   ]
  }
 ],
 "metadata": {
  "kernelspec": {
   "display_name": "Python 3",
   "language": "python",
   "name": "python3"
  },
  "language_info": {
   "codemirror_mode": {
    "name": "ipython",
    "version": 3
   },
   "file_extension": ".py",
   "mimetype": "text/x-python",
   "name": "python",
   "nbconvert_exporter": "python",
   "pygments_lexer": "ipython3",
   "version": "3.13.2"
  }
 },
 "nbformat": 4,
 "nbformat_minor": 2
}
