{
 "cells": [
  {
   "cell_type": "markdown",
   "metadata": {},
   "source": [
    "## Import Models"
   ]
  },
  {
   "cell_type": "code",
   "execution_count": null,
   "metadata": {},
   "outputs": [],
   "source": [
    "import torch\n",
    "import time\n",
    "from transformers import AutoModelForCausalLM, AutoTokenizer, QuantoConfig\n",
    "from sampling.base_decoding import autoregressive_generate\n",
    "from sampling.speculative_decoding import speculative_generate\n",
    "from ngram_assisted.ngram_assisted import ngram_assisted_speculative_generate\n",
    "from ngram_assisted.ngram_storage import NGramStorage\n",
    "from utils.logits_processor import (\n",
    "    GreedyProcessor,\n",
    "    MultinomialProcessor,\n",
    "    NucleusProcessor,\n",
    "    TopKNucleusProcessor,\n",
    "    TopKProcessor,\n",
    "    MCMCProcessor\n",
    ")"
   ]
  },
  {
   "cell_type": "code",
   "execution_count": null,
   "metadata": {},
   "outputs": [
    {
     "name": "stdout",
     "output_type": "stream",
     "text": [
      "cpu\n"
     ]
    },
    {
     "data": {
      "text/plain": [
       "LlamaForCausalLM(\n",
       "  (model): LlamaModel(\n",
       "    (embed_tokens): Embedding(32000, 2048)\n",
       "    (layers): ModuleList(\n",
       "      (0-21): 22 x LlamaDecoderLayer(\n",
       "        (self_attn): LlamaAttention(\n",
       "          (q_proj): QLinear(in_features=2048, out_features=2048, bias=False)\n",
       "          (k_proj): QLinear(in_features=2048, out_features=256, bias=False)\n",
       "          (v_proj): QLinear(in_features=2048, out_features=256, bias=False)\n",
       "          (o_proj): QLinear(in_features=2048, out_features=2048, bias=False)\n",
       "        )\n",
       "        (mlp): LlamaMLP(\n",
       "          (gate_proj): QLinear(in_features=2048, out_features=5632, bias=False)\n",
       "          (up_proj): QLinear(in_features=2048, out_features=5632, bias=False)\n",
       "          (down_proj): QLinear(in_features=5632, out_features=2048, bias=False)\n",
       "          (act_fn): SiLU()\n",
       "        )\n",
       "        (input_layernorm): LlamaRMSNorm((2048,), eps=1e-05)\n",
       "        (post_attention_layernorm): LlamaRMSNorm((2048,), eps=1e-05)\n",
       "      )\n",
       "    )\n",
       "    (norm): LlamaRMSNorm((2048,), eps=1e-05)\n",
       "    (rotary_emb): LlamaRotaryEmbedding()\n",
       "  )\n",
       "  (lm_head): Linear(in_features=2048, out_features=32000, bias=False)\n",
       ")"
      ]
     },
     "execution_count": 32,
     "metadata": {},
     "output_type": "execute_result"
    }
   ],
   "source": [
    "device = 'cuda' if torch.cuda.is_available() else 'cpu'\n",
    "print(device)\n",
    "\n",
    "drafter_model = \"TinyLlama/TinyLlama-1.1B-Chat-v1.0\"\n",
    "# drafter_model = \"gpt2\"\n",
    "drafter_quantize = QuantoConfig(\n",
    "    weights=\"int8\"\n",
    ")  # QuantoConfig(weights=\"int8\") None\n",
    "\n",
    "target_model = \"TinyLlama/TinyLlama-1.1B-Chat-v1.0\"\n",
    "# target_model = \"gpt2-medium\"\n",
    "target_quantize = QuantoConfig(\n",
    "    weights=\"int8\"\n",
    ")  # QuantoConfig(weights=\"int8\")  None\n",
    "tokenizer_name = target_model\n",
    "tokenizer = AutoTokenizer.from_pretrained(\n",
    "    tokenizer_name, trust_remote_code=True\n",
    ")\n",
    "\n",
    "drafter = AutoModelForCausalLM.from_pretrained(\n",
    "    drafter_model,\n",
    "    quantization_config=drafter_quantize,\n",
    "    device_map=device,\n",
    "    trust_remote_code=True,\n",
    ")\n",
    "drafter.eval()\n",
    "\n",
    "target = AutoModelForCausalLM.from_pretrained(\n",
    "    target_model,\n",
    "    quantization_config=target_quantize,\n",
    "    device_map=device,\n",
    "    trust_remote_code=True,\n",
    ")\n",
    "target.eval()\n"
   ]
  },
  {
   "cell_type": "code",
   "execution_count": null,
   "metadata": {},
   "outputs": [],
   "source": [
    "\n",
    "ngram = NGramStorage(n=3, vocab_size=target.config.vocab_size)\n",
    "\n",
    "end_tokens = [\n",
    "    tokenizer.eos_token_id,\n",
    "    tokenizer.convert_tokens_to_ids(\"<|eot_id|>\"),\n",
    "]  # \"<|eot_id|>\" is the end of turn token for Llama model.\n",
    "\n",
    "\n"
   ]
  },
  {
   "cell_type": "code",
   "execution_count": 20,
   "metadata": {},
   "outputs": [
    {
     "name": "stdout",
     "output_type": "stream",
     "text": [
      "[50256]\n"
     ]
    }
   ],
   "source": [
    "print(end_tokens)"
   ]
  },
  {
   "cell_type": "code",
   "execution_count": null,
   "metadata": {},
   "outputs": [],
   "source": [
    "prefix = \"what is capital of Canada?\"\n",
    "tokenized = tokenizer(prefix, return_tensors=\"pt\").input_ids[0].tolist()"
   ]
  },
  {
   "cell_type": "code",
   "execution_count": 27,
   "metadata": {},
   "outputs": [
    {
     "name": "stdout",
     "output_type": "stream",
     "text": [
      "[7454, 2402, 257, 640, 220]\n"
     ]
    }
   ],
   "source": [
    "print(tokenized)"
   ]
  },
  {
   "cell_type": "markdown",
   "metadata": {},
   "source": [
    "### Autoregression Method"
   ]
  },
  {
   "cell_type": "code",
   "execution_count": 28,
   "metadata": {},
   "outputs": [
    {
     "name": "stdout",
     "output_type": "stream",
     "text": [
      "!!!!!!!!!!!!!!!!!!!!!!!!!!!!!!!!!!!!!!!!\n",
      "Throughput: 3.1 tokens/s\n"
     ]
    }
   ],
   "source": [
    "start_time = time.time()\n",
    "output_ids = autoregressive_generate(\n",
    "    tokenized,\n",
    "    target,\n",
    "    # use_cache=self.cache,\n",
    "    # max_gen_len=self.gen_len,\n",
    "    eos_tokens_id=end_tokens,\n",
    "    # logits_processor=self.processor,\n",
    "    # debug=self.debug,\n",
    ")\n",
    "end_time = time.time()\n",
    "output = tokenizer.decode(output_ids, skip_special_tokens=True)\n",
    "print(output)\n",
    "base_throughput = len(output) / (end_time - start_time)\n",
    "print(f\"Throughput: {base_throughput:.1f} tokens/s\")\n"
   ]
  },
  {
   "cell_type": "markdown",
   "metadata": {},
   "source": [
    "### Speculative Method"
   ]
  },
  {
   "cell_type": "code",
   "execution_count": 29,
   "metadata": {},
   "outputs": [
    {
     "name": "stdout",
     "output_type": "stream",
     "text": [
      "!t was a man,!t was a woman,!t was a man,!t was a woman,!t was a man,!t was a woman,!t was!\n",
      "Acceptance rate: 1.000\n",
      "Throughput: 3.7 tokens/s\n"
     ]
    }
   ],
   "source": [
    "spec_start_time = time.time()\n",
    "output_ids, accept_rate = speculative_generate(\n",
    "    tokenized,\n",
    "    drafter,\n",
    "    target,\n",
    "    tokenizer=tokenizer,\n",
    "    # logits_processor=processor,\n",
    "    # gamma=gamma,\n",
    "    # max_gen_len=gen_len,\n",
    "    # eos_tokens_id=end_tokens,\n",
    "    # debug=debug,\n",
    "    # use_cache=cache,\n",
    ")\n",
    "spec_end_time = time.time()\n",
    "spec_output = tokenizer.decode(output_ids, skip_special_tokens=True)\n",
    "print( spec_output)\n",
    "print(f\"Acceptance rate: {accept_rate:.3f}\")\n",
    "spec_throughput = len(spec_output) / (spec_end_time - spec_start_time)\n",
    "print(f\"Throughput: {spec_throughput:.1f} tokens/s\")\n"
   ]
  },
  {
   "cell_type": "markdown",
   "metadata": {},
   "source": [
    "### Ngram specukative Method"
   ]
  },
  {
   "cell_type": "code",
   "execution_count": 30,
   "metadata": {},
   "outputs": [
    {
     "name": "stdout",
     "output_type": "stream",
     "text": [
      "!!!!!!!!!!!!!!!!!!!!!!!!!!!!!!!!!!!!!!!!\n",
      "Acceptance rate: 0.861\n",
      "Throughput: 8.6 tokens/s\n"
     ]
    }
   ],
   "source": [
    "\n",
    "ngram_start_time = time.time()\n",
    "output_ids, accept_rate = ngram_assisted_speculative_generate(\n",
    "    tokenized,\n",
    "    ngram,\n",
    "    target,\n",
    "    tokenizer=tokenizer,\n",
    "    # filler_top_k=self.top_k_filler,\n",
    "    # logits_processor=self.processor,\n",
    "    # max_gen_len=self.gen_len,\n",
    "    # eos_tokens_id=self.end_tokens,\n",
    "    # debug=self.debug,\n",
    "    # use_cache=self.cache,\n",
    "    # first_target=True,\n",
    "    # stop_if_unknown=True,\n",
    ")\n",
    "ngram_end_time = time.time()\n",
    "ngram_output = tokenizer.decode(output_ids, skip_special_tokens=True)\n",
    "print(ngram_output)\n",
    "print(f\"Acceptance rate: {accept_rate:.3f}\")\n",
    "ngram_throughput = len(ngram_output) / (ngram_end_time - ngram_start_time)\n",
    "print(f\"Throughput: {ngram_throughput:.1f} tokens/s\")"
   ]
  }
 ],
 "metadata": {
  "kernelspec": {
   "display_name": "Python 3",
   "language": "python",
   "name": "python3"
  },
  "language_info": {
   "codemirror_mode": {
    "name": "ipython",
    "version": 3
   },
   "file_extension": ".py",
   "mimetype": "text/x-python",
   "name": "python",
   "nbconvert_exporter": "python",
   "pygments_lexer": "ipython3",
   "version": "3.13.2"
  }
 },
 "nbformat": 4,
 "nbformat_minor": 2
}
